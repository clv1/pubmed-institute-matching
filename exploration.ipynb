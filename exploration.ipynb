{
 "cells": [
  {
   "cell_type": "markdown",
   "metadata": {},
   "source": [
    "# Parsing"
   ]
  },
  {
   "cell_type": "markdown",
   "metadata": {},
   "source": [
    "## Imports"
   ]
  },
  {
   "cell_type": "code",
   "execution_count": 6,
   "metadata": {},
   "outputs": [],
   "source": [
    "\n",
    "import pprint\n",
    "import csv\n",
    "import numpy as np\n",
    "import xml.etree.ElementTree as ET\n",
    "import spacy\n",
    "from spacy.lang.en import English\n",
    "import geonamescache\n",
    "from rapidfuzz.distance import Levenshtein"
   ]
  },
  {
   "cell_type": "markdown",
   "metadata": {},
   "source": [
    "## Parsing"
   ]
  },
  {
   "cell_type": "code",
   "execution_count": 3,
   "metadata": {},
   "outputs": [
    {
     "name": "stdout",
     "output_type": "stream",
     "text": [
      "[<Element 'PubmedArticle' at 0x146747790>, <Element 'PubmedArticle' at 0x146769f30>, <Element 'PubmedArticle' at 0x146776750>, <Element 'PubmedArticle' at 0x1467818a0>, <Element 'PubmedArticle' at 0x146789670>, <Element 'PubmedArticle' at 0x146795c10>, <Element 'PubmedArticle' at 0x1467a5940>, <Element 'PubmedArticle' at 0x1467acae0>, <Element 'PubmedArticle' at 0x1467be7a0>, <Element 'PubmedArticle' at 0x1467d4ae0>, <Element 'PubmedArticle' at 0x146916bb0>, <Element 'PubmedArticle' at 0x146921440>, <Element 'PubmedArticle' at 0x146939a80>, <Element 'PubmedArticle' at 0x146946b10>, <Element 'PubmedArticle' at 0x146951d50>, <Element 'PubmedArticle' at 0x14695b4c0>, <Element 'PubmedArticle' at 0x146972610>, <Element 'PubmedArticle' at 0x14697eca0>, <Element 'PubmedArticle' at 0x146999120>, <Element 'PubmedArticle' at 0x1469bec50>]\n"
     ]
    }
   ],
   "source": [
    "tree = ET.parse(\"./input_data/pubmed_data.xml\")\n",
    "root = tree.getroot()\n",
    "\n",
    "print(root[:20])"
   ]
  },
  {
   "cell_type": "markdown",
   "metadata": {},
   "source": [
    "## Exploration"
   ]
  },
  {
   "cell_type": "markdown",
   "metadata": {},
   "source": [
    "### How many articles are there in the dataset?"
   ]
  },
  {
   "cell_type": "code",
   "execution_count": 3,
   "metadata": {},
   "outputs": [
    {
     "name": "stdout",
     "output_type": "stream",
     "text": [
      "3549\n"
     ]
    }
   ],
   "source": [
    "def count_articles(root_element: ET.Element) -> int:\n",
    "    \"\"\"Returns the number of articles in the dataset.\"\"\"\n",
    "    # article_count = len([child.tag for child in root]) counts two extra because...?\n",
    "    article_count = len(root_element.findall(\"./PubmedArticle\"))\n",
    "    return article_count\n",
    "\n",
    "print(count_articles(root))"
   ]
  },
  {
   "cell_type": "markdown",
   "metadata": {},
   "source": [
    "### For a given article, extract the following fields:\n",
    "- Title\n",
    "- Year\n",
    "- PMID\n",
    "- Keywords (potentially a list)\n",
    "- MESH descriptor identifiers (a string with seven characters, beginning with a D and followed by six numbers, e.g. D000368; potentially a list)"
   ]
  },
  {
   "cell_type": "code",
   "execution_count": 4,
   "metadata": {},
   "outputs": [
    {
     "name": "stdout",
     "output_type": "stream",
     "text": [
      "{'title': '[Clinical value of myositis antibodies in patients with connective '\n",
      "          'tissue disease-associated interstitial lung diseases].',\n",
      " 'year': '2019',\n",
      " 'pmid': '31594111',\n",
      " 'keywords_list': ['Anti-synthetase antibody',\n",
      "                   'Connective tissue disease',\n",
      "                   'Lung disease, interstitial',\n",
      "                   'Polymyositis/dermatomyositis (PM/DM)'],\n",
      " 'mesh_ids': ['D000328',\n",
      "              'D000368',\n",
      "              'D001323',\n",
      "              'D001324',\n",
      "              'D002681',\n",
      "              'D003240',\n",
      "              'D003882',\n",
      "              'D005260',\n",
      "              'D006801',\n",
      "              'D017563',\n",
      "              'D008297',\n",
      "              'D008875',\n",
      "              'D009220',\n",
      "              'D017285',\n",
      "              'D012698']}\n"
     ]
    }
   ],
   "source": [
    "def extract_article_details(article_element: ET.Element) -> dict:\n",
    "    \"\"\"\n",
    "    Extracts certain fields for a given article.\n",
    "    Returns them in a dictionary.\n",
    "    \"\"\"\n",
    "    title = article_element.find('.//MedlineCitation//ArticleTitle').text\n",
    "    pmid = article_element.find('.//MedlineCitation//PMID').text\n",
    "    year = article_element.find('.//MedlineCitation//Year').text\n",
    "\n",
    "    keywords = article_element.findall(\n",
    "        './/MedlineCitation/KeywordList/Keyword')\n",
    "    keywords_list = [keyword.text for keyword in keywords]\n",
    "\n",
    "    mesh_headings = article_element.findall(\n",
    "        './/MedlineCitation/MeshHeadingList/MeshHeading')\n",
    "    mesh_descriptor_ids = [mesh_heading.find(\n",
    "        \"./DescriptorName\").attrib['UI'] for mesh_heading in mesh_headings]\n",
    "\n",
    "    extracted_fields = {'title': title, 'year': year, 'pmid': pmid}\n",
    "    # Check if keywords_list is not empty before updating the dictionary\n",
    "    if keywords_list:\n",
    "        extracted_fields['keywords_list'] = keywords_list\n",
    "    # Check if mesh_descriptor_ids is not empty before updating the dictionary\n",
    "    if mesh_descriptor_ids:\n",
    "        extracted_fields['mesh_ids'] = mesh_descriptor_ids\n",
    "    return extracted_fields\n",
    "\n",
    "\n",
    "article23 = extract_article_details(root[23])\n",
    "pprint.PrettyPrinter(sort_dicts=False).pprint(article23)"
   ]
  },
  {
   "cell_type": "markdown",
   "metadata": {},
   "source": [
    "### For a given author, extract the following fields:\n",
    "- First name\n",
    "- Last name\n",
    "- Initials\n",
    "- GRID identifier\n",
    "- Affiliations (potentially a list)"
   ]
  },
  {
   "cell_type": "code",
   "execution_count": 4,
   "metadata": {},
   "outputs": [
    {
     "name": "stdout",
     "output_type": "stream",
     "text": [
      "grid.5395.a\n",
      "Affiliation National Research Council - Clinical Institute of Physiology, Pisa, Italy.\n",
      "Affiliation 4Rheumatology Unit, Department of Clinical and Experimental Medicine, University of Pisa, Pisa, Italy.\n"
     ]
    }
   ],
   "source": [
    "def extract_author_details(author_element: ET.Element) -> dict:\n",
    "    \"\"\"\n",
    "    Extracts certain fields for a given author.\n",
    "    Returns them in a dictionary.\n",
    "    \"\"\"\n",
    "    author_details = {}\n",
    "\n",
    "    for field in ['ForeName', 'LastName', 'Initials']:\n",
    "        field_element = author_element.find(f'.//{field}')\n",
    "        if field_element is not None:\n",
    "            author_details.update({field: field_element.text})\n",
    "\n",
    "    if author_element.find('.//Identifier[@Source=\"GRID\"]') is not None:\n",
    "        grid_identifier = author_element.find(\n",
    "            './/Identifier[@Source=\"GRID\"]').text\n",
    "        author_details.update({'identity': grid_identifier})\n",
    "\n",
    "    # an author can have multiple AffiliationInfos\n",
    "    if author_element.findall('.//AffiliationInfo/Affiliation') is not None:\n",
    "        affiliation_list = [affiliation.text for affiliation in author_element.findall(\n",
    "            './/AffiliationInfo/Affiliation')]\n",
    "        author_details.update({'affiliations': affiliation_list})\n",
    "\n",
    "    return author_details\n",
    "\n",
    "\n",
    "author0 = root[208].find(\".//AuthorList\").findall(\".//Author\")[0]\n",
    "print(author0.find('.//Identifier[@Source=\"GRID\"]').text)\n",
    "\n",
    "pprint.PrettyPrinter(sort_dicts=False).pprint(\n",
    "    extract_author_details(author0))"
   ]
  },
  {
   "cell_type": "code",
   "execution_count": 10,
   "metadata": {},
   "outputs": [
    {
     "name": "stdout",
     "output_type": "stream",
     "text": [
      "{'forename': 'Antonella',\n",
      " 'lastname': 'Cecchettini',\n",
      " 'initials': 'A',\n",
      " 'reported_identity': 'grid.5395.a'}\n"
     ]
    }
   ],
   "source": [
    "def extract_author_details(author_element: ET.Element) -> dict:\n",
    "    forename = author_element.find('.//ForeName')\n",
    "    forename = forename.text if forename is not None else np.nan\n",
    "\n",
    "    lastname = author_element.find('.//LastName')\n",
    "    lastname = lastname.text if lastname is not None else np.nan\n",
    "\n",
    "    initials = author_element.find('.//Initials')\n",
    "    initials = initials.text if initials is not None else np.nan\n",
    "\n",
    "    reported_identifier = author_element.find('.//Identifier[@Source=\"GRID\"]')\n",
    "    reported_identifier = reported_identifier.text if reported_identifier is not None else np.nan\n",
    "\n",
    "    return {\n",
    "        'forename': forename,\n",
    "        'lastname': lastname,\n",
    "        'initials': initials,\n",
    "        'reported_identity': reported_identifier}\n",
    "\n",
    "author0 = root[208].find(\".//AuthorList\").findall(\".//Author\")[0]\n",
    "pprint.PrettyPrinter(sort_dicts=False).pprint(\n",
    "    extract_author_details(author0))"
   ]
  },
  {
   "cell_type": "code",
   "execution_count": 12,
   "metadata": {},
   "outputs": [
    {
     "name": "stdout",
     "output_type": "stream",
     "text": [
      "{'forename': 'Antonella',\n",
      " 'lastname': 'Cecchettini',\n",
      " 'initials': 'A',\n",
      " 'reported_identity': 'grid.5395.a'}\n"
     ]
    }
   ],
   "source": [
    "def extract_author_details(author_element: ET.Element) -> dict:\n",
    "    forename = author_element.find('.//ForeName')\n",
    "    if forename is not None:\n",
    "        forename = forename.text\n",
    "\n",
    "    lastname = author_element.find('.//LastName')\n",
    "    if lastname is not None:\n",
    "        lastname = lastname.text\n",
    "\n",
    "    initials = author_element.find('.//Initials')\n",
    "    if initials is not None:\n",
    "        initials = initials.text\n",
    "\n",
    "    reported_identifier = author_element.find('.//Identifier[@Source=\"GRID\"]')\n",
    "    if reported_identifier is not None:\n",
    "        reported_identifier = reported_identifier.text\n",
    "\n",
    "    return {\n",
    "        'forename': forename,\n",
    "        'lastname': lastname,\n",
    "        'initials': initials,\n",
    "        'reported_identity': reported_identifier}\n",
    "\n",
    "author0 = root[208].find(\".//AuthorList\").findall(\".//Author\")[0]\n",
    "pprint.PrettyPrinter(sort_dicts=False).pprint(\n",
    "    extract_author_details(author0))"
   ]
  },
  {
   "cell_type": "code",
   "execution_count": 8,
   "metadata": {},
   "outputs": [
    {
     "name": "stdout",
     "output_type": "stream",
     "text": [
      "grid.5395.a\n",
      "Affiliation National Research Council - Clinical Institute of Physiology, Pisa, Italy.\n",
      "Affiliation 4Rheumatology Unit, Department of Clinical and Experimental Medicine, University of Pisa, Pisa, Italy.\n"
     ]
    }
   ],
   "source": [
    "\n",
    "author0 = root[208].find(\".//AuthorList\").findall(\".//Author\")[0]\n",
    "print(author0.find('.//Identifier[@Source=\"GRID\"]').text)\n",
    "\n",
    "    # Print elements obtained using .iter()\n",
    "for elem in author0.iter('.//AffiliationInfo/Affiliation'):\n",
    "    print(elem.tag, elem.text)\n",
    "\n",
    "# Print elements obtained using .iterfind()\n",
    "for elem in author0.iterfind('.//AffiliationInfo/Affiliation'):\n",
    "        print(elem.tag, elem.text)"
   ]
  },
  {
   "cell_type": "code",
   "execution_count": 6,
   "metadata": {},
   "outputs": [
    {
     "name": "stdout",
     "output_type": "stream",
     "text": [
      "['Andorra', 'United Arab Emirates', 'Afghanistan', 'Antigua and Barbuda', 'Anguilla', 'Albania', 'Armenia', 'Angola', 'Antarctica', 'Argentina', 'American Samoa', 'Austria', 'Australia', 'Aruba', 'Aland Islands', 'Azerbaijan', 'Bosnia and Herzegovina', 'Barbados', 'Bangladesh', 'Belgium', 'Burkina Faso', 'Bulgaria', 'Bahrain', 'Burundi', 'Benin', 'Saint Barthelemy', 'Bermuda', 'Brunei', 'Bolivia', 'Bonaire, Saint Eustatius and Saba ', 'Brazil', 'Bahamas', 'Bhutan', 'Bouvet Island', 'Botswana', 'Belarus', 'Belize', 'Canada', 'Cocos Islands', 'Democratic Republic of the Congo', 'Central African Republic', 'Republic of the Congo', 'Switzerland', 'Ivory Coast', 'Cook Islands', 'Chile', 'Cameroon', 'China', 'Colombia', 'Costa Rica', 'Cuba', 'Cabo Verde', 'Curacao', 'Christmas Island', 'Cyprus', 'Czechia', 'Germany', 'Djibouti', 'Denmark', 'Dominica', 'Dominican Republic', 'Algeria', 'Ecuador', 'Estonia', 'Egypt', 'Western Sahara', 'Eritrea', 'Spain', 'Ethiopia', 'Finland', 'Fiji', 'Falkland Islands', 'Micronesia', 'Faroe Islands', 'France', 'Gabon', 'United Kingdom', 'Grenada', 'Georgia', 'French Guiana', 'Guernsey', 'Ghana', 'Gibraltar', 'Greenland', 'Gambia', 'Guinea', 'Guadeloupe', 'Equatorial Guinea', 'Greece', 'South Georgia and the South Sandwich Islands', 'Guatemala', 'Guam', 'Guinea-Bissau', 'Guyana', 'Hong Kong', 'Heard Island and McDonald Islands', 'Honduras', 'Croatia', 'Haiti', 'Hungary', 'Indonesia', 'Ireland', 'Israel', 'Isle of Man', 'India', 'British Indian Ocean Territory', 'Iraq', 'Iran', 'Iceland', 'Italy', 'Jersey', 'Jamaica', 'Jordan', 'Japan', 'Kenya', 'Kyrgyzstan', 'Cambodia', 'Kiribati', 'Comoros', 'Saint Kitts and Nevis', 'North Korea', 'South Korea', 'Kosovo', 'Kuwait', 'Cayman Islands', 'Kazakhstan', 'Laos', 'Lebanon', 'Saint Lucia', 'Liechtenstein', 'Sri Lanka', 'Liberia', 'Lesotho', 'Lithuania', 'Luxembourg', 'Latvia', 'Libya', 'Morocco', 'Monaco', 'Moldova', 'Montenegro', 'Saint Martin', 'Madagascar', 'Marshall Islands', 'North Macedonia', 'Mali', 'Myanmar', 'Mongolia', 'Macao', 'Northern Mariana Islands', 'Martinique', 'Mauritania', 'Montserrat', 'Malta', 'Mauritius', 'Maldives', 'Malawi', 'Mexico', 'Malaysia', 'Mozambique', 'Namibia', 'New Caledonia', 'Niger', 'Norfolk Island', 'Nigeria', 'Nicaragua', 'Netherlands', 'Norway', 'Nepal', 'Nauru', 'Niue', 'New Zealand', 'Oman', 'Panama', 'Peru', 'French Polynesia', 'Papua New Guinea', 'Philippines', 'Pakistan', 'Poland', 'Saint Pierre and Miquelon', 'Pitcairn', 'Puerto Rico', 'Palestinian Territory', 'Portugal', 'Palau', 'Paraguay', 'Qatar', 'Reunion', 'Romania', 'Serbia', 'Russia', 'Rwanda', 'Saudi Arabia', 'Solomon Islands', 'Seychelles', 'Sudan', 'South Sudan', 'Sweden', 'Singapore', 'Saint Helena', 'Slovenia', 'Svalbard and Jan Mayen', 'Slovakia', 'Sierra Leone', 'San Marino', 'Senegal', 'Somalia', 'Suriname', 'Sao Tome and Principe', 'El Salvador', 'Sint Maarten', 'Syria', 'Eswatini', 'Turks and Caicos Islands', 'Chad', 'French Southern Territories', 'Togo', 'Thailand', 'Tajikistan', 'Tokelau', 'Timor Leste', 'Turkmenistan', 'Tunisia', 'Tonga', 'Turkey', 'Trinidad and Tobago', 'Tuvalu', 'Taiwan', 'Tanzania', 'Ukraine', 'Uganda', 'United States Minor Outlying Islands', 'United States', 'Uruguay', 'Uzbekistan', 'Vatican', 'Saint Vincent and the Grenadines', 'Venezuela', 'British Virgin Islands', 'U.S. Virgin Islands', 'Vietnam', 'Vanuatu', 'Wallis and Futuna', 'Samoa', 'Yemen', 'Mayotte', 'South Africa', 'Zambia', 'Zimbabwe', 'Serbia and Montenegro', 'Netherlands Antilles']\n"
     ]
    }
   ],
   "source": [
    "# gets nested dictionary for countries\n",
    "gc = geonamescache.GeonamesCache().get_countries()\n",
    "# converts to list\n",
    "gc_list = [gc.get(value) for value in gc]\n",
    "\n",
    "gc_countries = []\n",
    "for dict in gc_list:\n",
    "    gc_countries.append(dict.get('name'))\n",
    "\n",
    "print(gc_countries)"
   ]
  },
  {
   "cell_type": "code",
   "execution_count": 7,
   "metadata": {},
   "outputs": [
    {
     "name": "stdout",
     "output_type": "stream",
     "text": [
      "['Greece', 'Norway', 'Norway', 'Norway', 'Norway', 'Norway', 'Norway', 'Norway', 'Norway', 'China', 'China', 'China', 'China', 'China', 'China', 'China', 'Italy', 'Italy', 'Italy', 'Italy', 'Italy', 'Italy', 'Pakistan', 'Pakistan', 'Pakistan', 'Pakistan', 'France', 'France', 'Spain', 'France', 'Germany', 'Italy', 'Norway', 'Norway', 'Norway', 'France', 'Serbia', 'Japan', 'France', 'Spain', 'France', 'Japan', 'France', 'France', 'Italy', 'Italy', 'Italy', 'Italy', 'Italy', 'Italy', 'Italy', 'Italy', 'Italy', 'Italy', 'Italy', 'Italy', 'Italy', 'Italy', 'Italy', 'Italy', 'Italy', 'Italy', 'Italy', 'Germany', 'Germany', 'Germany', 'Germany', 'Germany', 'Germany', 'Germany', 'Germany', 'Germany', 'Colombia', 'Germany', 'Germany', 'Germany', 'Germany', 'Sweden', 'Sweden', 'Sweden', 'United States', 'United States']\n"
     ]
    }
   ],
   "source": [
    "affiliation_elements = root.findall('.//AffiliationInfo/Affiliation')\n",
    "affiliations = [affiliation.text for affiliation in affiliation_elements]\n",
    "\n",
    "nlp = spacy.load(\"en_core_web_sm\")\n",
    "countries = []\n",
    "\n",
    "for affiliation_text in affiliations[:100]:\n",
    "    doc = nlp(affiliation_text)\n",
    "    for entity in doc.ents:\n",
    "        if entity.label_ == \"GPE\" and entity.text in gc_countries:\n",
    "            countries.append(entity.text)\n",
    "\n",
    "print(countries)"
   ]
  },
  {
   "cell_type": "markdown",
   "metadata": {},
   "source": [
    "## Extracting institution for each affiliation"
   ]
  },
  {
   "cell_type": "code",
   "execution_count": 27,
   "metadata": {},
   "outputs": [],
   "source": [
    "def extract_institution_from_affiliation_text(affiliation_text: str) -> str:\n",
    "    \"\"\"\n",
    "    Takes in a single affiliation.\n",
    "    Returns a country if its name is contained within the affiliation text.\n",
    "    \"\"\"\n",
    "    doc = nlp(affiliation_text)\n",
    "\n",
    "    entities = []\n",
    "    for entity in doc.ents:\n",
    "        if entity.label_ == \"ORG\":\n",
    "            entities.append(entity.text)\n",
    "    return entities"
   ]
  },
  {
   "cell_type": "code",
   "execution_count": 28,
   "metadata": {},
   "outputs": [
    {
     "name": "stdout",
     "output_type": "stream",
     "text": [
      "[['Department of Pathophysiology', 'School of Medicine', 'Kapodistrian University of Athens'], ['Department of Rheumatology', 'Amsterdam Rheumatology & Immunology Center'], ['Department of Radiology and Nuclear Medicine'], ['Department of Pulmonary Medicine', 'Amsterdam Cardiovascular Sciences'], ['Department of Radiology and Nuclear Medicine'], ['Department of Radiology and Nuclear Medicine'], ['Department of Rheumatology', 'Amsterdam Rheumatology & Immunology Center'], ['Department of Rheumatology', 'Amsterdam Rheumatology & Immunology Center'], ['Fuenlabrada'], ['Department of Ophthalmology', 'Østfold Hospital'], ['Clinical Immunology Unit', 'Department of Internal Medicine', 'Stavanger University Hospital'], ['Department of Ophthalmology, Haukeland University Hospital', 'Department of Clinical Medicine', 'University of Bergen'], ['Broegelmann Research Laboratory', 'Department of Clinical Science, University of Bergen', 'Department of Rheumatology, Haukeland University Hospital'], ['Clinical Immunology Unit', 'Department of Internal Medicine', 'Stavanger University Hospital', 'Broegelmann Research Laboratory', 'Department of Clinical Science, University of Bergen'], ['Department of Neurology', 'Renmin Hospital', 'Wuhan University'], ['Department of Neurology', 'Renmin Hospital', 'Wuhan University'], ['Department of Neurology', 'Renmin Hospital', 'Wuhan University'], ['Department of Neurology', 'Renmin Hospital', 'Wuhan University'], ['Department of Orthopedic', 'Wuhan Fourth Hospital'], ['Department of Neurology', 'Renmin Hospital', 'Wuhan University'], ['Department of Neurology', 'Renmin Hospital', 'Wuhan University'], ['Rheumatology Unit', 'Department of Medicine, University of Perugia'], ['Rheumatology Unit', 'Department of Clinical', 'Experimental Medicine', 'University of Pisa, Italy'], ['Rheumatology Clinic', 'Udine University Hospital', 'Department of Medical Area', 'University of Udine'], ['Rheumatology Unit', 'Sapienza University'], ['Division of Rheumatology, Department of Biotechnological', 'Applied Clinical Sciences', \"University of L'Aquila\"], ['Internal Medicine', 'University of Perugia'], ['Rheumatology Unit', 'Department of Medicine, University of Perugia'], ['Department of Pediatrics', 'Shifa International Hospital'], ['Department of Pediatrics', 'Shifa International Hospital'], ['Department of Rheumatology', 'Shifa International Hospital'], ['Department of Emergency Medicine', 'Shifa International Hospital'], ['Department of Neurology', 'Shifa International Hospital'], ['Cavale Blanche Hospital', 'Brest Occidentale University'], ['Brest Medical University Hospital'], ['University of Pisa, Pisa, Italy'], ['Department of Medicine (Rheumatology', 'Johns Hopkins University School of Medicine'], ['Rheumatology Research Group', 'Institute of Inflammation and Ageing, University of Birmingham'], ['Department of Rheumatology and Clinical Immunology', 'University of Groningen, University Medical Centre Groningen'], ['Department of Rheumatology', 'Birmingham NHS Trust'], ['Autoimmune Diseases Unit', 'Department of Medicine, Hospital CIMA- Sanitas'], ['Cavale Blanche Hospital', 'Brest Occidentale University'], ['Department of Medicine, Rheumatology and Clinical Immunology', 'DRFZ'], ['Clinic of Rheumatology, Department of Medical', 'Biological Sciences', 'University Hospital'], ['Rheumatology Research Group', 'Institute of Inflammation and Ageing, University of Birmingham'], ['Department of Rheumatology, Haukeland University Hospital'], ['Department of Clinical Science - Section for Rheumatology, University of Bergen'], ['Department of Clinical Dentistry - Section for Oral and Maxillofacial Radiology', 'University of Bergen'], ['Center for Immunology of Viral Infections', 'Autoimmune Diseases', 'Paris-Sud', 'Université Paris Sud'], ['Institute of Rheumatology, School of Medicine, University of Belgrade'], ['Department of Immunology and Rheumatology', 'Advanced Medical Sciences', 'Division of Advanced Preventive Medical Sciences', 'Nagasaki University Graduate School of Biomedical Sciences'], ['Institute of Cellular Medicine', 'Newcastle University & NIHR Newcastle Biomedical Research Centre'], ['Brest Medical University Hospital'], ['Autoimmune Diseases Unit', 'Department of Medicine, Hospital CIMA- Sanitas'], ['Clinical Immunology Research Program', 'Oklahoma Medical Research Foundation'], ['Center for Immunology of Viral Infections', 'Autoimmune Diseases', 'Paris-Sud', 'Université Paris Sud'], ['Department of Orofacial Sciences', 'School of Dentistry', 'University of California'], ['Department of Radiology', 'Nagasaki University Graduate School of Biomedical Sciences'], ['Department of Oral and Maxillofacial Surgery', 'University of Groningen, University Medical Centre Groningen'], ['Cavale Blanche Hospital', 'Brest Occidentale University'], ['Cavale Blanche Hospital', 'Brest Occidentale University'], ['Department of Rheumatology and Clinical Immunology', 'Charité University Medicine Berlin'], ['German Rheumatism Research Center Berlin', 'DRFZ'], ['Department of Rheumatology and Clinical Immunology', 'Charité University Medicine Berlin'], ['German Rheumatism Research Center Berlin', 'DRFZ'], ['Department of Rheumatology and Clinical Immunology', 'Charité University Medicine Berlin'], ['Department of Rheumatology and Clinical Immunology', 'Charité University Medicine Berlin'], ['Department of Rheumatology and Clinical Immunology', 'Charité University Medicine Berlin'], ['Department of Rheumatology and Clinical Immunology', 'Charité University Medicine Berlin'], ['German Rheumatism Research Center Berlin', 'DRFZ'], ['Grupo de Inmunología Celular e', 'Instituto de Investigaciones Médicas', 'Universidad de Antioquia'], ['Department of Genetics and Epigenetics, Saarland University, Saarbrücken'], ['Department of Genetics and Epigenetics, Saarland University, Saarbrücken'], ['Department of Genetics and Epigenetics, Saarland University, Saarbrücken'], ['Department of Genetics and Epigenetics, Saarland University, Saarbrücken'], ['Department of Medical Sciences, Rheumatology and Science for Life Laboratory', 'Uppsala University'], ['Department of Medical Sciences, Rheumatology and Science for Life Laboratory', 'Uppsala University'], ['Department of Medical Sciences, Rheumatology and Science for Life Laboratory', 'Uppsala University'], ['RILITE Research Institute'], ['RILITE Research Institute']]\n"
     ]
    }
   ],
   "source": [
    "affiliation_elements = root.findall('.//AffiliationInfo/Affiliation')\n",
    "affiliations = [affiliation.text for affiliation in affiliation_elements]\n",
    "\n",
    "nlp = spacy.load(\"en_core_web_sm\")\n",
    "institutions = []\n",
    "\n",
    "for affiliation_text in affiliations[:100]:\n",
    "    if extract_institution_from_affiliation_text(affiliation_text):\n",
    "        institution = extract_institution_from_affiliation_text(\n",
    "            affiliation_text)\n",
    "        institutions.append(institution)\n",
    "        \n",
    "\n",
    "print(institutions)\n",
    "    "
   ]
  },
  {
   "cell_type": "markdown",
   "metadata": {},
   "source": [
    "## Fuzzy matching on institution name\n"
   ]
  },
  {
   "cell_type": "code",
   "execution_count": 42,
   "metadata": {},
   "outputs": [
    {
     "data": {
      "text/plain": [
       "[{'grid_id': 'grid.1001.0',\n",
       "  'name': 'Australian National University',\n",
       "  'wikipedia_url': 'http://en.wikipedia.org/wiki/Australian_National_University',\n",
       "  'email_address': '',\n",
       "  'established': '1946'},\n",
       " {'grid_id': 'grid.1002.3',\n",
       "  'name': 'Monash University',\n",
       "  'wikipedia_url': 'http://en.wikipedia.org/wiki/Monash_University',\n",
       "  'email_address': '',\n",
       "  'established': '1958'},\n",
       " {'grid_id': 'grid.1003.2',\n",
       "  'name': 'University of Queensland',\n",
       "  'wikipedia_url': 'http://en.wikipedia.org/wiki/University_of_Queensland',\n",
       "  'email_address': '',\n",
       "  'established': '1909'},\n",
       " {'grid_id': 'grid.1004.5',\n",
       "  'name': 'Macquarie University',\n",
       "  'wikipedia_url': 'http://en.wikipedia.org/wiki/Macquarie_University',\n",
       "  'email_address': '',\n",
       "  'established': '1964'},\n",
       " {'grid_id': 'grid.1005.4',\n",
       "  'name': 'UNSW Sydney',\n",
       "  'wikipedia_url': 'http://en.wikipedia.org/wiki/University_of_New_South_Wales',\n",
       "  'email_address': '',\n",
       "  'established': '1949'},\n",
       " {'grid_id': 'grid.1006.7',\n",
       "  'name': 'Newcastle University',\n",
       "  'wikipedia_url': 'http://en.wikipedia.org/wiki/Newcastle_University',\n",
       "  'email_address': '',\n",
       "  'established': '1834'},\n",
       " {'grid_id': 'grid.1007.6',\n",
       "  'name': 'University of Wollongong',\n",
       "  'wikipedia_url': 'http://en.wikipedia.org/wiki/University_of_Wollongong',\n",
       "  'email_address': '',\n",
       "  'established': '1951'},\n",
       " {'grid_id': 'grid.1008.9',\n",
       "  'name': 'University of Melbourne',\n",
       "  'wikipedia_url': 'http://en.wikipedia.org/wiki/University_of_Melbourne',\n",
       "  'email_address': '',\n",
       "  'established': '1853'},\n",
       " {'grid_id': 'grid.1009.8',\n",
       "  'name': 'University of Tasmania',\n",
       "  'wikipedia_url': 'http://en.wikipedia.org/wiki/University_of_Tasmania',\n",
       "  'email_address': '',\n",
       "  'established': '1890'},\n",
       " {'grid_id': 'grid.1010.0',\n",
       "  'name': 'University of Adelaide',\n",
       "  'wikipedia_url': 'http://en.wikipedia.org/wiki/University_of_Adelaide',\n",
       "  'email_address': '',\n",
       "  'established': '1874'}]"
      ]
     },
     "execution_count": 42,
     "metadata": {},
     "output_type": "execute_result"
    }
   ],
   "source": [
    "def load_grid_institutes() -> dict:\n",
    "    \"\"\"\n",
    "    Loads the GRID institute data as a list of dictionaries.\n",
    "    \"\"\"\n",
    "    with open(\"./input_data/grid_data/grid_institutes.csv\", encoding=\"utf_8\") as file:\n",
    "        grid_institute_dicts = csv.DictReader(file)\n",
    "        return [institute_dict for institute_dict in grid_institute_dicts]\n",
    "\n",
    "load_grid_institutes()[:10]"
   ]
  },
  {
   "cell_type": "code",
   "execution_count": 47,
   "metadata": {},
   "outputs": [],
   "source": [
    "def match_institution_details_on_name(institution_elements: list[str]) -> str:\n",
    "    \"\"\"\n",
    "    Takes in an institution's elements as input.\n",
    "    Attempts to fuzzy match elements with grid data institutes by similarity.\n",
    "    Returns details of matched institute.\n",
    "    \"\"\"\n",
    "    id = \"GRID ID not found.\"\n",
    "    name = \"Institution name not found.\"\n",
    "    \n",
    "    if institution_elements:\n",
    "        grid_institute_data = load_grid_institutes()\n",
    "        \n",
    "        for element in institution_elements:\n",
    "\n",
    "            for grid_institute in grid_institute_data:\n",
    "                if Levenshtein.normalized_similarity(grid_institute[\"name\"], element) > 0.9:\n",
    "                    # can have multipl mnatches here\n",
    "                    # need to modify to collect as a list and return highest similarity match\n",
    "                    id = grid_institute[\"grid_id\"]\n",
    "                    name = grid_institute[\"name\"]\n",
    "                    break\n",
    "\n",
    "    return {'grid_id': id, 'name': name}"
   ]
  },
  {
   "cell_type": "code",
   "execution_count": 46,
   "metadata": {},
   "outputs": [
    {
     "name": "stdout",
     "output_type": "stream",
     "text": [
      "{'grid_id': 'grid.1002.3', 'name': 'Monash University'}\n"
     ]
    }
   ],
   "source": [
    "match = match_institution_details_on_name(['Department of Pathophysiology', 'School of Medicine', 'Monah University'])\n",
    "print(match)"
   ]
  },
  {
   "cell_type": "markdown",
   "metadata": {},
   "source": [
    "## Fuzzy matching-based extraction of institution for each affiliation"
   ]
  },
  {
   "cell_type": "code",
   "execution_count": 48,
   "metadata": {},
   "outputs": [
    {
     "name": "stdout",
     "output_type": "stream",
     "text": [
      "['Institution name not found.', 'Institution name not found.', 'Institution name not found.', 'Institution name not found.', 'Institution name not found.', 'Institution name not found.', 'Institution name not found.', 'Institution name not found.', 'Institution name not found.', 'Institution name not found.', 'Stavanger University Hospital', 'University of Bergen', 'Institution name not found.', 'Stavanger University Hospital', 'Wuhan University', 'Wuhan University', 'Wuhan University', 'Wuhan University', 'Institution name not found.', 'Wuhan University', 'Wuhan University', 'Institution name not found.', 'Institution name not found.', 'University of Udine', 'Institution name not found.', \"University of L'Aquila\", 'University of Perugia', 'Institution name not found.', 'Shifa International Hospital', 'Shifa International Hospital', 'Shifa International Hospital', 'Shifa International Hospital', 'Shifa International Hospital', 'Institution name not found.', 'Institution name not found.', 'Institution name not found.', 'Johns Hopkins University School of Medicine', 'Institution name not found.', 'Institution name not found.', 'Institution name not found.', 'Institution name not found.', 'Institution name not found.', 'Institution name not found.', 'University Hospital', 'Institution name not found.', 'Institution name not found.', 'Institution name not found.', 'University of Bergen', 'Institution name not found.', 'Institution name not found.', 'Institution name not found.', 'Institution name not found.', 'Institution name not found.', 'Institution name not found.', 'Oklahoma Medical Research Foundation', 'Institution name not found.', 'Institution name not found.', 'Institution name not found.', 'Institution name not found.', 'Institution name not found.', 'Institution name not found.', 'Institution name not found.', 'Institution name not found.', 'Institution name not found.', 'Institution name not found.', 'Institution name not found.', 'Institution name not found.', 'Institution name not found.', 'Institution name not found.', 'Institution name not found.', 'Instituto de Investigaciones Marinas', 'Institution name not found.', 'Institution name not found.', 'Institution name not found.', 'Institution name not found.', 'Uppsala University', 'Uppsala University', 'Uppsala University', 'Institution name not found.', 'Institution name not found.']\n"
     ]
    }
   ],
   "source": [
    "affiliation_elements = root.findall('.//AffiliationInfo/Affiliation')\n",
    "affiliations = [affiliation.text for affiliation in affiliation_elements]\n",
    "\n",
    "nlp = spacy.load(\"en_core_web_sm\")\n",
    "institutions = []\n",
    "\n",
    "for affiliation_text in affiliations[:100]:\n",
    "    if extract_institution_from_affiliation_text(affiliation_text):\n",
    "        institution = extract_institution_from_affiliation_text(\n",
    "            affiliation_text)\n",
    "        grid_institution = match_institution_details_on_name(institution)['name']\n",
    "        institutions.append(grid_institution)\n",
    "\n",
    "print(institutions)\n",
    "    "
   ]
  }
 ],
 "metadata": {
  "kernelspec": {
   "display_name": "venv",
   "language": "python",
   "name": "python3"
  },
  "language_info": {
   "codemirror_mode": {
    "name": "ipython",
    "version": 3
   },
   "file_extension": ".py",
   "mimetype": "text/x-python",
   "name": "python",
   "nbconvert_exporter": "python",
   "pygments_lexer": "ipython3",
   "version": "3.11.6"
  }
 },
 "nbformat": 4,
 "nbformat_minor": 2
}
